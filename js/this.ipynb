{
 "cells": [
  {
   "cell_type": "code",
   "execution_count": 5,
   "metadata": {},
   "outputs": [
    {
     "name": "stdout",
     "output_type": "stream",
     "text": [
      "Pretty printing has been turned OFF\n"
     ]
    }
   ],
   "source": [
    "%pprint"
   ]
  },
  {
   "cell_type": "code",
   "execution_count": 20,
   "metadata": {},
   "outputs": [
    {
     "data": {
      "text/plain": [
       "[73, 87, 79, 61, 82, 58, 81, 56, 72, 50, 74, 25, 80, 84, 79, 100, 85, 53, 66, 85, 67, 100, 100, 42, 66, 100, 100, 81, 100, 88, 92, 97, 79, 100, 97, 62, 84, 83, 88, 89, 87, 21, 100, 70, 49, 45, 100, 85, 100, 76, 81, 100, 100, 92, 79, 82, 96, 37, 85, 71, 85, 93, 86, 98, 94, 78, 93, 44, 100, 100, 70, 85, 71, 80, 96, 54, 48, 59, 31, 64, 96, 100, 100, 86, 97, 48, 78, 82, 65, 82, 32, 61, 100, 76, 68, 61, 78, 81, 46, 91]"
      ]
     },
     "execution_count": 20,
     "metadata": {},
     "output_type": "execute_result"
    }
   ],
   "source": [
    "import pandas as pd\n",
    "\n",
    "df = pd.read_csv(\"/Users/nathan/Downloads/samplingavatarresponses.csv\")\n",
    "df['q27truth'][0:100].astype(int).to_list()"
   ]
  }
 ],
 "metadata": {
  "kernelspec": {
   "display_name": "open-glassdoor",
   "language": "python",
   "name": "python3"
  },
  "language_info": {
   "codemirror_mode": {
    "name": "ipython",
    "version": 3
   },
   "file_extension": ".py",
   "mimetype": "text/x-python",
   "name": "python",
   "nbconvert_exporter": "python",
   "pygments_lexer": "ipython3",
   "version": "3.11.5"
  }
 },
 "nbformat": 4,
 "nbformat_minor": 2
}
